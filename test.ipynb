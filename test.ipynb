{
 "cells": [
  {
   "cell_type": "code",
   "execution_count": 35,
   "metadata": {},
   "outputs": [
    {
     "name": "stdout",
     "output_type": "stream",
     "text": [
      "ROBOT_IP: 10.177.63.209, VERSION: v2.5.1, PROTOCOL: V1, DETAIL: 7,7,XS1304,AC1303,v2.5.1, TYPE1300: [1, 1]\n",
      "change protocol identifier to 3\n"
     ]
    }
   ],
   "source": [
    "from src.components.robot.xarm import Xarm\n",
    "\n",
    "robot = Xarm(\"10.177.63.209\")"
   ]
  },
  {
   "cell_type": "code",
   "execution_count": 41,
   "metadata": {},
   "outputs": [],
   "source": [
    "robot.move_coords([316.79242, 20.13295, 40.77933, 178.10439, 1.829454, 3.611926],wait=False)"
   ]
  },
  {
   "cell_type": "code",
   "execution_count": 33,
   "metadata": {},
   "outputs": [],
   "source": [
    "robot.move_coords(input_coords=[466.6, 72.2, 297.8, 175.6, -1.3, 12.1], wait=False)\n",
    "robot.move_coords(input_coords=[516.6, 72.2, 297.8, 175.6, -1.3, 12.1], wait=False)\n",
    "robot.move_coords(input_coords=[516.6, 122.2, 297.8, 175.6, -1.3, 12.1], wait=False)"
   ]
  },
  {
   "cell_type": "code",
   "execution_count": 42,
   "metadata": {},
   "outputs": [
    {
     "name": "stdout",
     "output_type": "stream",
     "text": [
      "[set_state], xArm is not ready to move\n",
      "[set_state], xArm is ready to move\n",
      "[set_state], xArm is not ready to move\n",
      "[set_state], xArm is ready to move\n",
      "[set_state], xArm is not ready to move\n",
      "[set_state], xArm is ready to move\n"
     ]
    }
   ],
   "source": [
    "robot.move_gripper(500, wait=False, wait_motion=False)\n",
    "\n",
    "robot._controller.set_state(4)\n",
    "robot._controller.set_state(0)\n",
    "robot.move_coords(input_coords=[466.6, 72.2, 297.8, 175.6, -1.3, 12.1], wait=False)\n",
    "robot._controller.set_state(4)\n",
    "robot._controller.set_state(0)\n",
    "\n",
    "\n",
    "robot.move_coords(input_coords=[516.6, 72.2, 297.8, 175.6, -1.3, 12.1], wait=False)\n",
    "robot._controller.set_state(4)\n",
    "robot._controller.set_state(0)\n",
    "robot.move_coords(input_coords=[516.6, 122.2, 297.8, 175.6, -1.3, 12.1], wait=False)"
   ]
  },
  {
   "cell_type": "code",
   "execution_count": 9,
   "metadata": {},
   "outputs": [
    {
     "name": "stdout",
     "output_type": "stream",
     "text": [
      "1\n",
      "2\n",
      "3\n"
     ]
    }
   ],
   "source": [
    "speed = 1000\n",
    "\n",
    "robot.move_coords(input_coords=[466.6, 72.2, 297.8, 175.6, -1.3, 12.1], wait=False,speed=speed)\n",
    "print(\"1\")\n",
    "\n",
    "\n",
    "robot.move_coords(\n",
    "\n",
    "\n",
    "    input_coords=[516.6, 72.2, 297.8, 175.6, -1.3, 12.1], wait=False, speed=speed\n",
    ")\n",
    "print(\"2\")\n",
    "\n",
    "\n",
    "robot.move_coords(\n",
    "    input_coords=[516.6, 122.2, 297.8, 175.6, -1.3, 12.1], wait=False, speed=speed\n",
    ")\n",
    "\n",
    "\n",
    "print(\"3\")"
   ]
  },
  {
   "cell_type": "code",
   "execution_count": null,
   "metadata": {},
   "outputs": [],
   "source": [
    "robot.move_coords(\n",
    "    [374.609619140625, 106.61958312988281, 241.07012939453125, 175.6, -1.3, 12.1]\n",
    ")"
   ]
  },
  {
   "cell_type": "code",
   "execution_count": null,
   "metadata": {},
   "outputs": [],
   "source": [
    "robot.move_coords([260.26606688,-15.1228148 , 46.28570101 ,147.24898773 , 41.62330866,-15.09250227])"
   ]
  },
  {
   "cell_type": "code",
   "execution_count": null,
   "metadata": {},
   "outputs": [],
   "source": [
    "robot.move_coords(\n",
    "    [260.26606688, -15.1228148, 46.28570101, 178.10439, 1.829454, 3.611926]\n",
    ")"
   ]
  },
  {
   "cell_type": "code",
   "execution_count": 45,
   "metadata": {},
   "outputs": [],
   "source": [
    "robot.move_coords(\n",
    "    [320.22551508  , 11.68594648  , 30.90288462 ,-169.39842973 , -26.44479598, 16.69605046]\n",
    ")"
   ]
  },
  {
   "cell_type": "code",
   "execution_count": 9,
   "metadata": {},
   "outputs": [],
   "source": [
    "robot.move_coords(\n",
    "    [\n",
    "        375.6373789707612,\n",
    "        6.322789290728824,\n",
    "        42.920881321713644,\n",
    "        173.5164032795139,\n",
    "        4.1076114256959775,\n",
    "        -13.54850123361802,\n",
    "    ]\n",
    ")"
   ]
  },
  {
   "cell_type": "code",
   "execution_count": 4,
   "metadata": {},
   "outputs": [
    {
     "name": "stdout",
     "output_type": "stream",
     "text": [
      "[SDK][ERROR][2024-09-08 21:07:57][base.py:168] - - [report-socket] socket read timeout\n",
      "[SDK][ERROR][2024-09-08 21:08:46][base.py:293] - - [main-socket] recv error: [WinError 10054] 远程主机强迫关闭了一个现有的连接。\n"
     ]
    }
   ],
   "source": [
    "# 3\n",
    "robot.move_coords(\n",
    "    [\n",
    "        638,\n",
    "        -36.2,\n",
    "        0,\n",
    "        173.5164032795139,\n",
    "        4.1076114256959775,\n",
    "        -13.54850123361802,\n",
    "    ]\n",
    ")"
   ]
  },
  {
   "cell_type": "code",
   "execution_count": 11,
   "metadata": {},
   "outputs": [],
   "source": [
    "# 1\n",
    "robot.move_coords(\n",
    "    [\n",
    "        366,\n",
    "        -39.1,\n",
    "        0,\n",
    "        173.5164032795139,\n",
    "        4.1076114256959775,\n",
    "        -13.54850123361802,\n",
    "    ]\n",
    ")"
   ]
  },
  {
   "cell_type": "code",
   "execution_count": 3,
   "metadata": {},
   "outputs": [],
   "source": [
    "# 2\n",
    "robot.move_coords(\n",
    "    [\n",
    "        374,\n",
    "        158,\n",
    "        0,\n",
    "        173.5164032795139,\n",
    "        4.1076114256959775,\n",
    "        -13.54850123361802,\n",
    "    ]\n",
    ")"
   ]
  },
  {
   "cell_type": "code",
   "execution_count": 10,
   "metadata": {},
   "outputs": [
    {
     "name": "stdout",
     "output_type": "stream",
     "text": [
      "[SDK][ERROR][2024-09-06 20:00:05][base.py:168] - - [report-socket] socket read timeout\n"
     ]
    }
   ],
   "source": [
    "robot.move_coords(\n",
    "    [\n",
    "        366,\n",
    "        -39.1,\n",
    "        0,\n",
    "        180,\n",
    "        0,\n",
    "        90,\n",
    "    ]\n",
    ")"
   ]
  },
  {
   "cell_type": "code",
   "execution_count": null,
   "metadata": {},
   "outputs": [],
   "source": [
    "robot._controller.set_gripper_mode(0)\n",
    "robot._controller.set_gripper_enable(True)\n",
    "robot._controller.set_gripper_speed(5000)"
   ]
  },
  {
   "cell_type": "code",
   "execution_count": null,
   "metadata": {},
   "outputs": [],
   "source": [
    "robot._controller.set_gripper_position(0, wait_motion=False)\n",
    "robot._controller.set_gripper_position(500, wait_motion=False)"
   ]
  },
  {
   "cell_type": "code",
   "execution_count": 7,
   "metadata": {},
   "outputs": [
    {
     "name": "stdout",
     "output_type": "stream",
     "text": [
      "1\n",
      "2\n",
      "3\n",
      "4\n",
      "4\n"
     ]
    }
   ],
   "source": [
    "robot.move_gripper(0, wait=False,wait_motion=False)\n",
    "print(\"1\")\n",
    "robot.move_gripper(500, wait=False,wait_motion=False)\n",
    "print(\"2\")\n",
    "robot.move_coords(\n",
    "    input_coords=[466.6, 72.2, 297.8, 175.6, -1.3, 12.1],\n",
    "    wait=False,\n",
    "    speed=300,\n",
    "    wait_motion=False,\n",
    ")\n",
    "print(\"3\")\n",
    "robot.move_coords(\n",
    "    input_coords=[516.6, 72.2, 297.8, 175.6, -1.3, 12.1],\n",
    "    wait=False,\n",
    "    speed=300,\n",
    "    wait_motion=False,\n",
    ")\n",
    "print(\"4\")\n",
    "robot.move_coords(\n",
    "    input_coords=[516.6, 122.2, 297.8, 175.6, -1.3, 12.1],\n",
    "    wait=False,\n",
    "    speed=300,\n",
    "    wait_motion=False,\n",
    ")\n",
    "print(\"4\")"
   ]
  },
  {
   "cell_type": "code",
   "execution_count": null,
   "metadata": {},
   "outputs": [],
   "source": []
  },
  {
   "cell_type": "code",
   "execution_count": null,
   "metadata": {},
   "outputs": [],
   "source": [
    "robot.stop()"
   ]
  },
  {
   "cell_type": "code",
   "execution_count": 7,
   "metadata": {},
   "outputs": [
    {
     "name": "stdout",
     "output_type": "stream",
     "text": [
      "[[1 4]\n",
      " [3 4]]\n"
     ]
    }
   ],
   "source": [
    "import numpy as np\n",
    "\n",
    "a =  np.array(np.array([[1,2],[3,4]]))\n",
    "a[:2,1] *= np.array([2,1])\n",
    "# a = np.full((3,),20)\n",
    "print(a)"
   ]
  },
  {
   "cell_type": "code",
   "execution_count": 6,
   "metadata": {},
   "outputs": [],
   "source": [
    "def dict_append(target, source):\n",
    "    # target source都是字典\n",
    "    for key, value in source.items():\n",
    "        if not isinstance(value, dict):\n",
    "            if key not in target:\n",
    "                target[key] = [source[key]]\n",
    "            else:\n",
    "                target[key].append(source[key])\n",
    "        else:\n",
    "            if key not in target:\n",
    "                target[key] = {}\n",
    "            dict_append(target[key], source[key])"
   ]
  },
  {
   "cell_type": "code",
   "execution_count": 14,
   "metadata": {},
   "outputs": [
    {
     "name": "stdout",
     "output_type": "stream",
     "text": [
      "{'1': {'11': [1, 1, 1], '12': [2, 2, 2]}, '2': [2, 2, 2]}\n",
      "{'a': <class 'numpy.uint16'>}\n"
     ]
    }
   ],
   "source": [
    "import numpy as np\n",
    "a = {\"1\": {\"11\": 1, \"12\": 2}, \"2\": 2}\n",
    "b = {}\n",
    "\n",
    "dict_append(b, a)\n",
    "dict_append(b, a)\n",
    "dict_append(b, a)\n",
    "print(b)\n",
    "print({\"a\": np.uint16})"
   ]
  },
  {
   "cell_type": "code",
   "execution_count": 1,
   "metadata": {},
   "outputs": [
    {
     "ename": "NameError",
     "evalue": "name '__file__' is not defined",
     "output_type": "error",
     "traceback": [
      "\u001b[1;31m---------------------------------------------------------------------------\u001b[0m",
      "\u001b[1;31mNameError\u001b[0m                                 Traceback (most recent call last)",
      "Cell \u001b[1;32mIn[1], line 17\u001b[0m\n\u001b[0;32m     14\u001b[0m \u001b[38;5;28;01mimport\u001b[39;00m \u001b[38;5;21;01msys\u001b[39;00m\n\u001b[0;32m     15\u001b[0m \u001b[38;5;28;01mimport\u001b[39;00m \u001b[38;5;21;01mtime\u001b[39;00m\n\u001b[1;32m---> 17\u001b[0m sys\u001b[38;5;241m.\u001b[39mpath\u001b[38;5;241m.\u001b[39mappend(os\u001b[38;5;241m.\u001b[39mpath\u001b[38;5;241m.\u001b[39mjoin(os\u001b[38;5;241m.\u001b[39mpath\u001b[38;5;241m.\u001b[39mdirname(\u001b[38;5;18;43m__file__\u001b[39;49m), \u001b[38;5;124m\"\u001b[39m\u001b[38;5;124m../../..\u001b[39m\u001b[38;5;124m\"\u001b[39m))\n\u001b[0;32m     19\u001b[0m \u001b[38;5;28;01mfrom\u001b[39;00m \u001b[38;5;21;01mxarm\u001b[39;00m\u001b[38;5;21;01m.\u001b[39;00m\u001b[38;5;21;01mwrapper\u001b[39;00m \u001b[38;5;28;01mimport\u001b[39;00m XArmAPI\n\u001b[0;32m     22\u001b[0m \u001b[38;5;66;03m#######################################################\u001b[39;00m\n",
      "\u001b[1;31mNameError\u001b[0m: name '__file__' is not defined"
     ]
    }
   ],
   "source": []
  },
  {
   "cell_type": "code",
   "execution_count": 5,
   "metadata": {},
   "outputs": [
    {
     "name": "stdout",
     "output_type": "stream",
     "text": [
      "1727093482\n"
     ]
    }
   ],
   "source": [
    "import time\n",
    "\n",
    "print(int(time.time()))"
   ]
  },
  {
   "cell_type": "code",
   "execution_count": 2,
   "metadata": {},
   "outputs": [],
   "source": [
    "speed = 100\n",
    "\n",
    "def fun():\n",
    "    global robot\n",
    "    robot.move_coords(\n",
    "        input_coords=[466.6, 72.2, 297.8, 175.6, -1.3, 12.1], wait=False, speed=speed\n",
    "    )\n",
    "    print(1)\n",
    "    robot.move_coords(\n",
    "        input_coords=[516.6, 72.2, 297.8, 175.6, -1.3, 12.1], wait=False, speed=speed\n",
    "    )\n",
    "    print(2)\n",
    "    robot.move_coords(\n",
    "        input_coords=[516.6, 122.2, 297.8, 175.6, -1.3, 12.1], wait=False, speed=speed\n",
    "    )\n",
    "    print(3)\n",
    "\n",
    "for i in range(10):\n",
    "    fun()"
   ]
  },
  {
   "cell_type": "code",
   "execution_count": 34,
   "metadata": {},
   "outputs": [
    {
     "data": {
      "text/plain": [
       "array([493.33908 ,  98.93933 , 297.8002  , 175.60005 ,  -1.299984,\n",
       "        12.100009], dtype=float32)"
      ]
     },
     "execution_count": 34,
     "metadata": {},
     "output_type": "execute_result"
    }
   ],
   "source": [
    "robot.get_cartesian_position()"
   ]
  }
 ],
 "metadata": {
  "kernelspec": {
   "display_name": "backend",
   "language": "python",
   "name": "python3"
  },
  "language_info": {
   "codemirror_mode": {
    "name": "ipython",
    "version": 3
   },
   "file_extension": ".py",
   "mimetype": "text/x-python",
   "name": "python",
   "nbconvert_exporter": "python",
   "pygments_lexer": "ipython3",
   "version": "3.8.19"
  }
 },
 "nbformat": 4,
 "nbformat_minor": 2
}
