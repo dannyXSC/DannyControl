{
 "cells": [
  {
   "cell_type": "code",
   "execution_count": 1,
   "metadata": {},
   "outputs": [
    {
     "name": "stdout",
     "output_type": "stream",
     "text": [
      "SDK_VERSION: 1.13.30\n",
      "ROBOT_IP: 10.177.63.209, VERSION: v2.5.1, PROTOCOL: V1, DETAIL: 7,7,XS1304,AC1303,v2.5.1, TYPE1300: [1, 1]\n",
      "change protocol identifier to 3\n"
     ]
    },
    {
     "name": "stdout",
     "output_type": "stream",
     "text": [
      "ControllerError, code: 21\n",
      "Xarm ErrorCode: 21, WarnCode: 0\n",
      "ControllerError had clean\n",
      "Xarm ErrorCode: 0, WarnCode: 0\n",
      "ControllerError, code: 31\n",
      "Xarm ErrorCode: 31, WarnCode: 0\n",
      "ControllerError had clean\n",
      "Xarm ErrorCode: 0, WarnCode: 0\n",
      "ControllerError, code: 31\n",
      "Xarm ErrorCode: 31, WarnCode: 0\n",
      "ControllerError had clean\n",
      "Xarm ErrorCode: 0, WarnCode: 0\n",
      "ControllerError, code: 21\n",
      "Xarm ErrorCode: 21, WarnCode: 0\n",
      "ControllerError had clean\n",
      "Xarm ErrorCode: 0, WarnCode: 0\n",
      "ControllerError, code: 31\n",
      "Xarm ErrorCode: 31, WarnCode: 0\n",
      "ControllerError had clean\n",
      "Xarm ErrorCode: 0, WarnCode: 0\n",
      "ControllerError, code: 31\n",
      "Xarm ErrorCode: 31, WarnCode: 0\n",
      "ControllerError had clean\n",
      "Xarm ErrorCode: 0, WarnCode: 0\n",
      "ControllerError, code: 37\n",
      "Xarm ErrorCode: 37, WarnCode: 0\n",
      "ControllerError had clean\n",
      "Xarm ErrorCode: 0, WarnCode: 0\n",
      "ControllerError, code: 1\n",
      "Xarm ErrorCode: 1, WarnCode: 0\n",
      "servo_error_code, servo_id=1, status=3, code=0\n",
      "ControllerError had clean\n",
      "Xarm ErrorCode: 0, WarnCode: 0\n",
      "servo_error_code, servo_id=1, status=0, code=0\n",
      "ControllerError, code: 37\n",
      "Xarm ErrorCode: 37, WarnCode: 0\n",
      "ControllerError had clean\n",
      "Xarm ErrorCode: 0, WarnCode: 0\n",
      "ControllerError, code: 31\n",
      "Xarm ErrorCode: 31, WarnCode: 0\n",
      "ControllerError had clean\n",
      "Xarm ErrorCode: 0, WarnCode: 0\n",
      "ControllerError, code: 31\n",
      "Xarm ErrorCode: 31, WarnCode: 0\n",
      "ControllerError had clean\n",
      "Xarm ErrorCode: 0, WarnCode: 0\n"
     ]
    }
   ],
   "source": [
    "from src.components.robot.xarm import Xarm\n",
    "\n",
    "robot = Xarm(\"10.177.63.209\")"
   ]
  },
  {
   "cell_type": "code",
   "execution_count": 3,
   "metadata": {},
   "outputs": [],
   "source": [
    "robot.move_coords([316.79242, 20.13295, 40.77933, 178.10439, 1.829454, 3.611926])"
   ]
  },
  {
   "cell_type": "code",
   "execution_count": 8,
   "metadata": {},
   "outputs": [],
   "source": [
    "robot.move_coords(input_coords=[466.6, 72.2, 297.8, 175.6, -1.3, 12.1], wait=False)\n",
    "robot.move_coords(input_coords=[516.6, 72.2, 297.8, 175.6, -1.3, 12.1], wait=False)\n",
    "robot.move_coords(input_coords=[516.6, 122.2, 297.8, 175.6, -1.3, 12.1], wait=False)"
   ]
  },
  {
   "cell_type": "code",
   "execution_count": 2,
   "metadata": {},
   "outputs": [],
   "source": [
    "robot.move_coords(input_coords=[466.6, 72.2, 297.8, 175.6, -1.3, 12.1], wait=True,speed=300)\n",
    "robot.move_coords(\n",
    "    input_coords=[516.6, 72.2, 297.8, 175.6, -1.3, 12.1], wait=True, speed=300\n",
    ")\n",
    "robot.move_coords(\n",
    "    input_coords=[516.6, 122.2, 297.8, 175.6, -1.3, 12.1], wait=True, speed=300\n",
    ")"
   ]
  },
  {
   "cell_type": "code",
   "execution_count": 11,
   "metadata": {},
   "outputs": [
    {
     "name": "stdout",
     "output_type": "stream",
     "text": [
      "[SDK][ERROR][2024-08-13 18:23:27][base.py:271] - - [main-socket] socket read failed, len=0\n",
      "[SDK][ERROR][2024-08-13 18:23:27][base.py:176] - - [report-socket] socket read failed, len=0\n"
     ]
    }
   ],
   "source": [
    "robot.move_coords(\n",
    "    [374.609619140625, 106.61958312988281, 241.07012939453125, 175.6, -1.3, 12.1]\n",
    ")"
   ]
  },
  {
   "cell_type": "code",
   "execution_count": 9,
   "metadata": {},
   "outputs": [],
   "source": [
    "robot.move_coords([260.26606688,-15.1228148 , 46.28570101 ,147.24898773 , 41.62330866,-15.09250227])"
   ]
  },
  {
   "cell_type": "code",
   "execution_count": 11,
   "metadata": {},
   "outputs": [],
   "source": [
    "robot.move_coords(\n",
    "    [260.26606688, -15.1228148, 46.28570101, 178.10439, 1.829454, 3.611926]\n",
    ")"
   ]
  },
  {
   "cell_type": "code",
   "execution_count": 9,
   "metadata": {},
   "outputs": [],
   "source": [
    "robot.move_coords(\n",
    "    [\n",
    "        375.6373789707612,\n",
    "        6.322789290728824,\n",
    "        42.920881321713644,\n",
    "        173.5164032795139,\n",
    "        4.1076114256959775,\n",
    "        -13.54850123361802,\n",
    "    ]\n",
    ")"
   ]
  },
  {
   "cell_type": "code",
   "execution_count": 13,
   "metadata": {},
   "outputs": [],
   "source": [
    "robot.stop()"
   ]
  }
 ],
 "metadata": {
  "kernelspec": {
   "display_name": "backend",
   "language": "python",
   "name": "python3"
  },
  "language_info": {
   "codemirror_mode": {
    "name": "ipython",
    "version": 3
   },
   "file_extension": ".py",
   "mimetype": "text/x-python",
   "name": "python",
   "nbconvert_exporter": "python",
   "pygments_lexer": "ipython3",
   "version": "3.8.19"
  }
 },
 "nbformat": 4,
 "nbformat_minor": 2
}
