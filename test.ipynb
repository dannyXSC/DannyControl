{
 "cells": [
  {
   "cell_type": "code",
   "execution_count": 1,
   "metadata": {},
   "outputs": [
    {
     "name": "stdout",
     "output_type": "stream",
     "text": [
      "SDK_VERSION: 1.13.30\n",
      "ROBOT_IP: 10.177.63.209, VERSION: v2.5.1, PROTOCOL: V1, DETAIL: 7,7,XS1304,AC1303,v2.5.1, TYPE1300: [1, 1]\n",
      "change protocol identifier to 3\n"
     ]
    }
   ],
   "source": [
    "from src.components.robot.xarm import Xarm\n",
    "\n",
    "robot = Xarm(\"10.177.63.209\")"
   ]
  },
  {
   "cell_type": "code",
   "execution_count": 7,
   "metadata": {},
   "outputs": [],
   "source": [
    "# 1 orign\n",
    "robot.move_coords([151.2, 312.3, -1, 180, 0, 90])"
   ]
  },
  {
   "cell_type": "code",
   "execution_count": 3,
   "metadata": {},
   "outputs": [],
   "source": [
    "# 2 top\n",
    "robot.move_coords([336.3, 309.9, -1, 180, 0, 90])"
   ]
  },
  {
   "cell_type": "code",
   "execution_count": 6,
   "metadata": {},
   "outputs": [],
   "source": [
    "# 2 left\n",
    "robot.move_coords([159.9, 620, -1, 180, 0, 90])"
   ]
  },
  {
   "cell_type": "code",
   "execution_count": 59,
   "metadata": {},
   "outputs": [],
   "source": [
    "robot.move_coords([316.79242, 20.13295, 40.77933, 178.10439, 1.829454, 3.611926],wait=False)"
   ]
  },
  {
   "cell_type": "code",
   "execution_count": 60,
   "metadata": {},
   "outputs": [],
   "source": [
    "robot.move_coords(input_coords=[466.6, 72.2, 297.8, 175.6, -1.3, 12.1], wait=False)\n",
    "robot.move_coords(input_coords=[516.6, 72.2, 297.8, 175.6, -1.3, 12.1], wait=False)\n",
    "robot.move_coords(input_coords=[516.6, 122.2, 297.8, 175.6, -1.3, 12.1], wait=False)"
   ]
  },
  {
   "cell_type": "code",
   "execution_count": null,
   "metadata": {},
   "outputs": [],
   "source": [
    "robot.move_gripper(500, wait=False, wait_motion=False)\n",
    "\n",
    "robot._controller.set_state(4)\n",
    "robot._controller.set_state(0)\n",
    "robot.move_coords(input_coords=[466.6, 72.2, 297.8, 175.6, -1.3, 12.1], wait=False)\n",
    "robot._controller.set_state(4)\n",
    "robot._controller.set_state(0)\n",
    "\n",
    "\n",
    "robot.move_coords(input_coords=[516.6, 72.2, 297.8, 175.6, -1.3, 12.1], wait=False)\n",
    "robot._controller.set_state(4)\n",
    "robot._controller.set_state(0)\n",
    "robot.move_coords(input_coords=[516.6, 122.2, 297.8, 175.6, -1.3, 12.1], wait=False)"
   ]
  },
  {
   "cell_type": "code",
   "execution_count": null,
   "metadata": {},
   "outputs": [],
   "source": [
    "speed = 1000\n",
    "\n",
    "robot.move_coords(input_coords=[466.6, 72.2, 297.8, 175.6, -1.3, 12.1], wait=False,speed=speed)\n",
    "print(\"1\")\n",
    "\n",
    "\n",
    "robot.move_coords(\n",
    "\n",
    "\n",
    "    input_coords=[516.6, 72.2, 297.8, 175.6, -1.3, 12.1], wait=False, speed=speed\n",
    ")\n",
    "print(\"2\")\n",
    "\n",
    "\n",
    "robot.move_coords(\n",
    "    input_coords=[516.6, 122.2, 297.8, 175.6, -1.3, 12.1], wait=False, speed=speed\n",
    ")\n",
    "\n",
    "\n",
    "print(\"3\")"
   ]
  },
  {
   "cell_type": "code",
   "execution_count": null,
   "metadata": {},
   "outputs": [],
   "source": [
    "robot.move_coords(\n",
    "    [374.609619140625, 106.61958312988281, 241.07012939453125, 175.6, -1.3, 12.1]\n",
    ")"
   ]
  },
  {
   "cell_type": "code",
   "execution_count": null,
   "metadata": {},
   "outputs": [],
   "source": [
    "robot.move_coords([260.26606688,-15.1228148 , 46.28570101 ,147.24898773 , 41.62330866,-15.09250227])"
   ]
  },
  {
   "cell_type": "code",
   "execution_count": null,
   "metadata": {},
   "outputs": [],
   "source": [
    "robot.move_coords(\n",
    "    [260.26606688, -15.1228148, 46.28570101, 178.10439, 1.829454, 3.611926]\n",
    ")"
   ]
  },
  {
   "cell_type": "code",
   "execution_count": 45,
   "metadata": {},
   "outputs": [],
   "source": [
    "robot.move_coords(\n",
    "    [320.22551508  , 11.68594648  , 30.90288462 ,-169.39842973 , -26.44479598, 16.69605046]\n",
    ")"
   ]
  },
  {
   "cell_type": "code",
   "execution_count": 5,
   "metadata": {},
   "outputs": [],
   "source": [
    "robot.move_coords(\n",
    "    [462.5, 7.1, 127.7, 180, 0, 90]\n",
    ")"
   ]
  },
  {
   "cell_type": "code",
   "execution_count": 14,
   "metadata": {},
   "outputs": [],
   "source": []
  },
  {
   "cell_type": "code",
   "execution_count": null,
   "metadata": {},
   "outputs": [],
   "source": []
  },
  {
   "cell_type": "code",
   "execution_count": 9,
   "metadata": {},
   "outputs": [],
   "source": [
    "robot.move_coords(\n",
    "    [\n",
    "        375.6373789707612,\n",
    "        6.322789290728824,\n",
    "        42.920881321713644,\n",
    "        173.5164032795139,\n",
    "        4.1076114256959775,\n",
    "        -13.54850123361802,\n",
    "    ]\n",
    ")"
   ]
  },
  {
   "cell_type": "code",
   "execution_count": null,
   "metadata": {},
   "outputs": [],
   "source": [
    "# 3\n",
    "robot.move_coords(\n",
    "    [\n",
    "        638,\n",
    "        -36.2,\n",
    "        0,\n",
    "        173.5164032795139,\n",
    "        4.1076114256959775,\n",
    "        -13.54850123361802,\n",
    "    ]\n",
    ")"
   ]
  },
  {
   "cell_type": "code",
   "execution_count": 11,
   "metadata": {},
   "outputs": [],
   "source": [
    "# 1\n",
    "robot.move_coords(\n",
    "    [\n",
    "        366,\n",
    "        -39.1,\n",
    "        0,\n",
    "        173.5164032795139,\n",
    "        4.1076114256959775,\n",
    "        -13.54850123361802,\n",
    "    ]\n",
    ")"
   ]
  },
  {
   "cell_type": "code",
   "execution_count": 3,
   "metadata": {},
   "outputs": [],
   "source": [
    "# 2\n",
    "robot.move_coords(\n",
    "    [\n",
    "        374,\n",
    "        158,\n",
    "        0,\n",
    "        173.5164032795139,\n",
    "        4.1076114256959775,\n",
    "        -13.54850123361802,\n",
    "    ]\n",
    ")"
   ]
  },
  {
   "cell_type": "code",
   "execution_count": null,
   "metadata": {},
   "outputs": [],
   "source": [
    "robot.move_coords(\n",
    "    [\n",
    "        366,\n",
    "        -39.1,\n",
    "        0,\n",
    "        180,\n",
    "        0,\n",
    "        90,\n",
    "    ]\n",
    ")"
   ]
  },
  {
   "cell_type": "code",
   "execution_count": null,
   "metadata": {},
   "outputs": [],
   "source": [
    "robot._controller.set_gripper_mode(0)\n",
    "robot._controller.set_gripper_enable(True)\n",
    "robot._controller.set_gripper_speed(5000)"
   ]
  },
  {
   "cell_type": "code",
   "execution_count": null,
   "metadata": {},
   "outputs": [],
   "source": [
    "speed = 20\n",
    "wait = True\n",
    "wait_motion = True\n",
    "\n",
    "robot.move_coords(\n",
    "    input_coords=[466.6, 72.2, 297.8, 175.6, -1.3, 12.1],\n",
    "    wait=wait,\n",
    "    wait_motion=wait_motion,\n",
    "    speed=speed,\n",
    ")\n",
    "print(\"1\")\n",
    "\n",
    "\n",
    "robot.move_coords(\n",
    "    input_coords=[516.6, 72.2, 297.8, 175.6, -1.3, 12.1],\n",
    "    wait=wait,\n",
    "    wait_motion=wait_motion,\n",
    "    speed=speed,\n",
    ")\n",
    "print(\"2\")\n",
    "\n",
    "\n",
    "robot.move_coords(\n",
    "    input_coords=[516.6, 122.2, 297.8, 175.6, -1.3, 12.1],\n",
    "    wait=wait,\n",
    "    wait_motion=wait_motion,\n",
    "    speed=speed,\n",
    ")\n",
    "print(\"3\")"
   ]
  },
  {
   "cell_type": "code",
   "execution_count": null,
   "metadata": {},
   "outputs": [],
   "source": [
    "robot._controller.set_gripper_position(0, wait_motion=False)"
   ]
  },
  {
   "cell_type": "code",
   "execution_count": null,
   "metadata": {},
   "outputs": [],
   "source": [
    "robot._controller.set_gripper_position(500, wait_motion=False)"
   ]
  },
  {
   "cell_type": "markdown",
   "metadata": {},
   "source": []
  },
  {
   "cell_type": "code",
   "execution_count": null,
   "metadata": {},
   "outputs": [],
   "source": [
    "robot.move_gripper(0, wait=False,wait_motion=False)\n",
    "print(\"1\")\n",
    "robot.move_gripper(500, wait=False,wait_motion=False)\n",
    "print(\"2\")\n",
    "robot.move_coords(\n",
    "    input_coords=[466.6, 72.2, 297.8, 175.6, -1.3, 12.1],\n",
    "    wait=False,\n",
    "    speed=300,\n",
    "    wait_motion=False,\n",
    ")\n",
    "print(\"3\")\n",
    "robot.move_coords(\n",
    "    input_coords=[516.6, 72.2, 297.8, 175.6, -1.3, 12.1],\n",
    "    wait=False,\n",
    "    speed=300,\n",
    "    wait_motion=False,\n",
    ")\n",
    "print(\"4\")\n",
    "robot.move_coords(\n",
    "    input_coords=[516.6, 122.2, 297.8, 175.6, -1.3, 12.1],\n",
    "    wait=False,\n",
    "    speed=300,\n",
    "    wait_motion=False,\n",
    ")\n",
    "print(\"4\")"
   ]
  },
  {
   "cell_type": "code",
   "execution_count": null,
   "metadata": {},
   "outputs": [],
   "source": []
  },
  {
   "cell_type": "code",
   "execution_count": null,
   "metadata": {},
   "outputs": [],
   "source": [
    "robot.stop()"
   ]
  },
  {
   "cell_type": "code",
   "execution_count": null,
   "metadata": {},
   "outputs": [],
   "source": [
    "import numpy as np\n",
    "\n",
    "a =  np.array(np.array([[1,2],[3,4]]))\n",
    "a[:2,1] *= np.array([2,1])\n",
    "# a = np.full((3,),20)\n",
    "print(a)"
   ]
  },
  {
   "cell_type": "code",
   "execution_count": 6,
   "metadata": {},
   "outputs": [],
   "source": [
    "def dict_append(target, source):\n",
    "    # target source都是字典\n",
    "    for key, value in source.items():\n",
    "        if not isinstance(value, dict):\n",
    "            if key not in target:\n",
    "                target[key] = [source[key]]\n",
    "            else:\n",
    "                target[key].append(source[key])\n",
    "        else:\n",
    "            if key not in target:\n",
    "                target[key] = {}\n",
    "            dict_append(target[key], source[key])"
   ]
  },
  {
   "cell_type": "code",
   "execution_count": null,
   "metadata": {},
   "outputs": [],
   "source": [
    "import numpy as np\n",
    "a = {\"1\": {\"11\": 1, \"12\": 2}, \"2\": 2}\n",
    "b = {}\n",
    "\n",
    "dict_append(b, a)\n",
    "dict_append(b, a)\n",
    "dict_append(b, a)\n",
    "print(b)\n",
    "print({\"a\": np.uint16})"
   ]
  },
  {
   "cell_type": "code",
   "execution_count": null,
   "metadata": {},
   "outputs": [],
   "source": [
    "robot._controller.get_gripper_position()[1]"
   ]
  },
  {
   "cell_type": "code",
   "execution_count": null,
   "metadata": {},
   "outputs": [],
   "source": [
    "import time\n",
    "\n",
    "print(int(time.time()))"
   ]
  },
  {
   "cell_type": "code",
   "execution_count": 2,
   "metadata": {},
   "outputs": [],
   "source": [
    "speed = 100\n",
    "\n",
    "def fun():\n",
    "    global robot\n",
    "    robot.move_coords(\n",
    "        input_coords=[466.6, 72.2, 297.8, 175.6, -1.3, 12.1], wait=False, speed=speed\n",
    "    )\n",
    "    print(1)\n",
    "    robot.move_coords(\n",
    "        input_coords=[516.6, 72.2, 297.8, 175.6, -1.3, 12.1], wait=False, speed=speed\n",
    "    )\n",
    "    print(2)\n",
    "    robot.move_coords(\n",
    "        input_coords=[516.6, 122.2, 297.8, 175.6, -1.3, 12.1], wait=False, speed=speed\n",
    "    )\n",
    "    print(3)\n",
    "\n",
    "for i in range(10):\n",
    "    fun()"
   ]
  },
  {
   "cell_type": "code",
   "execution_count": null,
   "metadata": {},
   "outputs": [],
   "source": [
    "robot.get_cartesian_position()"
   ]
  },
  {
   "cell_type": "code",
   "execution_count": 47,
   "metadata": {},
   "outputs": [
    {
     "name": "stdout",
     "output_type": "stream",
     "text": [
      "[1727602008]\n"
     ]
    }
   ],
   "source": [
    "import time\n",
    "import numpy as np\n",
    "\n",
    "t = time.time()\n",
    "print(np.array([t],dtype=np.uint64))"
   ]
  },
  {
   "cell_type": "code",
   "execution_count": 13,
   "metadata": {},
   "outputs": [],
   "source": [
    "from src.components.sensors.realsense import RealsenseHamal\n",
    "\n",
    "\n",
    "realsense = RealsenseHamal(\"233522078536\", 424, 240, 30)\n"
   ]
  },
  {
   "cell_type": "code",
   "execution_count": null,
   "metadata": {},
   "outputs": [],
   "source": [
    "color_image, depth_image, frames = realsense.get_rgb_depth_images()\n",
    "print(color_image.shape)"
   ]
  },
  {
   "cell_type": "code",
   "execution_count": 14,
   "metadata": {},
   "outputs": [],
   "source": [
    "realsense.pipeline.stop()"
   ]
  }
 ],
 "metadata": {
  "kernelspec": {
   "display_name": "backend",
   "language": "python",
   "name": "python3"
  },
  "language_info": {
   "codemirror_mode": {
    "name": "ipython",
    "version": 3
   },
   "file_extension": ".py",
   "mimetype": "text/x-python",
   "name": "python",
   "nbconvert_exporter": "python",
   "pygments_lexer": "ipython3",
   "version": "3.10.13"
  }
 },
 "nbformat": 4,
 "nbformat_minor": 2
}
